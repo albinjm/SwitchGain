{
  "cells": [
    {
      "cell_type": "markdown",
      "source": [
        "# 1. Introduction\n",
        "Algorithmic trading refers to the use of computer programs and quantitative models to execute trades in financial markets automatically. By leveraging data science techniques, algorithmic trading aims to identify profitable trading opportunities based on statistical patterns, historical data, and real-time market signals. This project explores two key trading strategies—**Momentum Trading** and **Mean Reversion**—applied to stock price data of Apple Inc. (AAPL) fetched from Yahoo Finance.\n",
        "\n",
        "### Data Science Aspects in Algorithmic Trading\n",
        "- **Time Series Analysis:** Stock price movements are analyzed using historical data to identify trends.\n",
        "- **Technical Indicators:** Momentum (RSI, percentage change) and mean reversion (Z-score, Bollinger Bands) are used to generate buy/sell signals.\n",
        "- **Visualization:** Interactive plots (using Plotly) help in understanding price movements and strategy performance.\n",
        "- **Automation:** Python scripts fetch real-time data, compute indicators, and generate trading signals without manual intervention.\n",
        "\n",
        "This project demonstrates how data science techniques can be applied to financial markets for systematic trading decisions."
      ],
      "metadata": {
        "id": "US9LlaAac_A8"
      },
      "id": "US9LlaAac_A8"
    },
    {
      "cell_type": "code",
      "execution_count": null,
      "id": "kD962GCsKRYX",
      "metadata": {
        "id": "kD962GCsKRYX"
      },
      "outputs": [],
      "source": [
        "pip install yfinance ta"
      ]
    },
    {
      "cell_type": "code",
      "execution_count": null,
      "id": "sUwByD63Kgmo",
      "metadata": {
        "id": "sUwByD63Kgmo"
      },
      "outputs": [],
      "source": [
        "import pandas as pd\n",
        "import numpy as np\n",
        "import plotly.graph_objs as go\n",
        "from plotly.subplots import make_subplots\n",
        "import yfinance as yf\n",
        "import ta"
      ]
    },
    {
      "cell_type": "markdown",
      "source": [
        "# 2. Data Collection & Preprocessing\n",
        "\n",
        "### Data Collection\n",
        "The project uses **Yahoo Finance (yfinance)** to fetch historical stock data for AAPL with the following parameters:\n",
        "- **Time Period:** 1 year\n",
        "- **Interval:** Daily (1d)\n",
        "- **Features:** Open, High, Low, Close (OHLC), Volume\n",
        "\n",
        "**Error Handling:**\n",
        "- Checks for empty data returns.\n",
        "- Raises exceptions if data fetching fails."
      ],
      "metadata": {
        "id": "HUhJNy07d950"
      },
      "id": "HUhJNy07d950"
    },
    {
      "cell_type": "code",
      "execution_count": null,
      "id": "DI187VM6KsSP",
      "metadata": {
        "id": "DI187VM6KsSP"
      },
      "outputs": [],
      "source": [
        "try:\n",
        "    stock = yf.Ticker(\"AAPL\")\n",
        "    data = stock.history(period=\"1y\", interval=\"1d\")\n",
        "    if data.empty:\n",
        "        raise ValueError(\"No data returned from Yahoo Finance\")\n",
        "except Exception as e:\n",
        "    print(f\"Error fetching data: {e}\")\n",
        "    raise\n",
        "\n",
        "print(data.head())"
      ]
    },
    {
      "cell_type": "markdown",
      "source": [
        "### Preprocessing Steps\n",
        "1. **Momentum Strategy:**\n",
        "   - Computes 1-day and 5-day percentage price changes (`Momentum_1D`, `Momentum_5D`).\n",
        "   - Calculates **Relative Strength Index (RSI)** using a 14-day window.\n",
        "   - Generates signals:\n",
        "     - **Buy (1):** If `Momentum_5D > 0` and `30 < RSI < 70`\n",
        "     - **Sell (-1):** If `Momentum_5D < 0` and `RSI > 70`\n",
        "     - **Neutral (0):** Otherwise"
      ],
      "metadata": {
        "id": "yW24beisehtF"
      },
      "id": "yW24beisehtF"
    },
    {
      "cell_type": "code",
      "execution_count": null,
      "id": "0MnsmYCtKvDf",
      "metadata": {
        "id": "0MnsmYCtKvDf"
      },
      "outputs": [],
      "source": [
        "data['Momentum_1D'] = data['Close'].pct_change(periods=1)\n",
        "data['Momentum_5D'] = data['Close'].pct_change(periods=5)\n",
        "data['RSI'] = ta.momentum.RSIIndicator(data['Close'], window=14).rsi()\n",
        "\n",
        "data['Signal'] = np.where(\n",
        "    (data['Momentum_5D'] > 0) & (data['RSI'] > 30) & (data['RSI'] < 70),\n",
        "    1,\n",
        "    np.where(\n",
        "        (data['Momentum_5D'] < 0) & (data['RSI'] > 70),\n",
        "        -1,\n",
        "        0\n",
        "    )\n",
        ")"
      ]
    },
    {
      "cell_type": "markdown",
      "source": [
        "### Visualization\n",
        "- **Momentum Strategy:**\n",
        "  - Price chart with buy/sell markers.\n",
        "  - 5-day momentum trendline."
      ],
      "metadata": {
        "id": "RjHulS87eJNN"
      },
      "id": "RjHulS87eJNN"
    },
    {
      "cell_type": "code",
      "execution_count": null,
      "id": "6zHFXlmNKxqv",
      "metadata": {
        "id": "6zHFXlmNKxqv"
      },
      "outputs": [],
      "source": [
        "figure = make_subplots(\n",
        "    rows=2, cols=1,\n",
        "    shared_xaxes=True,\n",
        "    subplot_titles=('Price with Momentum Signals', 'Momentum Indicator')\n",
        ")\n",
        "\n",
        "figure.add_trace(\n",
        "    go.Scatter(\n",
        "        x=data.index,\n",
        "        y=data['Close'],\n",
        "        name='Close Price',\n",
        "        line=dict(color='#1f77b4')\n",
        "    ),\n",
        "    row=1, col=1\n",
        ")\n",
        "\n",
        "figure.add_trace(\n",
        "    go.Scatter(\n",
        "        x=data.index,\n",
        "        y=data['Momentum_5D'],\n",
        "        name='5-Day Momentum',\n",
        "        line=dict(color='purple')\n",
        "    ),\n",
        "    row=2, col=1\n",
        ")\n",
        "\n",
        "figure.add_hline(\n",
        "    y=0,\n",
        "    line_dash=\"solid\",\n",
        "    line_color=\"black\",\n",
        "    row=2, col=1\n",
        ")\n",
        "\n",
        "figure.add_trace(go.Scatter(\n",
        "    x=data[data['Signal'] == 1].index,\n",
        "    y=data[data['Signal'] == 1]['Close'],\n",
        "    mode='markers',\n",
        "    name='Buy',\n",
        "    marker=dict(\n",
        "        color='green',\n",
        "        symbol='triangle-up',\n",
        "        size=10,\n",
        "        line=dict(width=1)\n",
        "    )\n",
        "), row=1, col=1)\n",
        "\n",
        "figure.add_trace(go.Scatter(\n",
        "    x=data[data['Signal'] == -1].index,\n",
        "    y=data[data['Signal'] == -1]['Close'],\n",
        "    mode='markers',\n",
        "    name='Sell',\n",
        "    marker=dict(\n",
        "        color='red',\n",
        "        symbol='triangle-down',\n",
        "        size=10,\n",
        "        line=dict(width=1)\n",
        "    )\n",
        "), row=1, col=1)\n",
        "\n",
        "figure.update_layout(\n",
        "    title='Algorithmic Trading using Momentum Strategy',\n",
        "    height=800,\n",
        "    showlegend=True,\n",
        "    hovermode='x unified'\n",
        ")\n",
        "\n",
        "figure.update_yaxes(title_text=\"Price\", row=1, col=1)\n",
        "figure.update_yaxes(title_text=\"5-Day Momentum\", row=2, col=1)\n",
        "\n",
        "figure.show()"
      ]
    },
    {
      "cell_type": "markdown",
      "source": [
        "### Preprocessing Steps\n",
        "2. **Mean Reversion Strategy:**\n",
        "   - Computes **20-day Simple Moving Average (SMA)** and **Standard Deviation (STD)**.\n",
        "   - Defines **Upper and Lower Bands** (SMA ± 1.5 × STD).\n",
        "   - Calculates **Z-Score** to measure deviations from the mean.\n",
        "   - Generates signals:\n",
        "     - **Buy:** If price falls below the lower band (`Z-Score < -1.5`).\n",
        "     - **Sell:** If price exceeds the upper band (`Z-Score > 1.5`)."
      ],
      "metadata": {
        "id": "UxJnvh2le6ul"
      },
      "id": "UxJnvh2le6ul"
    },
    {
      "cell_type": "code",
      "execution_count": null,
      "id": "lvUJUUl9K5_o",
      "metadata": {
        "id": "lvUJUUl9K5_o"
      },
      "outputs": [],
      "source": [
        "window = 20\n",
        "data['SMA'] = data['Close'].rolling(window=window).mean()\n",
        "data['STD'] = data['Close'].rolling(window=window).std()\n",
        "data['Upper'] = data['SMA'] + (data['STD'] * 1.5)\n",
        "data['Lower'] = data['SMA'] - (data['STD'] * 1.5)"
      ]
    },
    {
      "cell_type": "code",
      "execution_count": null,
      "id": "Lvl-VSZ2uh2b",
      "metadata": {
        "id": "Lvl-VSZ2uh2b"
      },
      "outputs": [],
      "source": [
        "data['Z-Score'] = (data['Close'] - data['SMA']) / data['STD']"
      ]
    },
    {
      "cell_type": "markdown",
      "source": [
        "### Visualization\n",
        "- **Mean Reversion Strategy:**\n",
        "  - Price chart with SMA and Bollinger Bands.\n",
        "  - Z-Score plot with thresholds."
      ],
      "metadata": {
        "id": "BJiM5r48fIkE"
      },
      "id": "BJiM5r48fIkE"
    },
    {
      "cell_type": "code",
      "execution_count": null,
      "id": "CcbqSuheu8b8",
      "metadata": {
        "id": "CcbqSuheu8b8"
      },
      "outputs": [],
      "source": [
        "figure = make_subplots(rows=2, cols=1, shared_xaxes=True,\n",
        "                      subplot_titles=('Price with Mean Reversion Bands', 'Z-Score'))\n",
        "\n",
        "figure.add_trace(go.Scatter(x=data.index, y=data['Close'], name='Close Price'), row=1, col=1)\n",
        "figure.add_trace(go.Scatter(x=data.index, y=data['SMA'], name=f'{window}-Day SMA',\n",
        "                           line=dict(color='orange', width=1)), row=1, col=1)\n",
        "figure.add_trace(go.Scatter(x=data.index, y=data['Upper'], name='Upper Band',\n",
        "                           line=dict(color='red', width=1, dash='dash')), row=1, col=1)\n",
        "figure.add_trace(go.Scatter(x=data.index, y=data['Lower'], name='Lower Band',\n",
        "                           line=dict(color='green', width=1, dash='dash')), row=1, col=1)\n",
        "\n",
        "figure.add_trace(go.Scatter(x=data.index, y=data['Z-Score'], name='Z-Score',\n",
        "                           line=dict(color='purple')), row=2, col=1)\n",
        "figure.add_hline(y=1.5, line_dash=\"dot\", line_color=\"red\", row=2, col=1)\n",
        "figure.add_hline(y=-1.5, line_dash=\"dot\", line_color=\"green\", row=2, col=1)\n",
        "figure.add_hline(y=0, line_dash=\"solid\", line_color=\"black\", row=2, col=1)\n",
        "\n",
        "figure.add_trace(go.Scatter(\n",
        "    x=data.loc[data['Z-Score'] < -1.5].index,\n",
        "    y=data.loc[data['Z-Score'] < -1.5]['Close'],\n",
        "    mode='markers', name='Buy',\n",
        "    marker=dict(color='green', symbol='triangle-up', size=10)), row=1, col=1)\n",
        "\n",
        "figure.add_trace(go.Scatter(\n",
        "    x=data.loc[data['Z-Score'] > 1.5].index,\n",
        "    y=data.loc[data['Z-Score'] > 1.5]['Close'],\n",
        "    mode='markers', name='Sell',\n",
        "    marker=dict(color='red', symbol='triangle-down', size=10)), row=1, col=1)\n",
        "\n",
        "figure.update_layout(title='Algorithmic Trading using Mean Reversion Strategy',\n",
        "                   height=800)\n",
        "figure.update_yaxes(title_text=\"Price\", row=1, col=1)\n",
        "figure.update_yaxes(title_text=\"Z-Score\", row=2, col=1)\n",
        "figure.show()"
      ]
    }
  ],
  "metadata": {
    "colab": {
      "provenance": [],
      "gpuType": "V28"
    },
    "kernelspec": {
      "display_name": "Python 3",
      "name": "python3"
    },
    "language_info": {
      "codemirror_mode": {
        "name": "ipython",
        "version": 3
      },
      "file_extension": ".py",
      "mimetype": "text/x-python",
      "name": "python",
      "nbconvert_exporter": "python",
      "pygments_lexer": "ipython3",
      "version": "3.11.7"
    },
    "accelerator": "TPU"
  },
  "nbformat": 4,
  "nbformat_minor": 5
}